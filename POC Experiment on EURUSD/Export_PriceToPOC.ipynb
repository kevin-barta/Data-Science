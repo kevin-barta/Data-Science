{
 "cells": [
  {
   "cell_type": "code",
   "execution_count": 2,
   "id": "a30d459e",
   "metadata": {},
   "outputs": [
    {
     "name": "stderr",
     "output_type": "stream",
     "text": [
      "5658748it [01:28, 64056.87it/s]\n"
     ]
    }
   ],
   "source": [
    "import statistics as stats\n",
    "from tqdm import tqdm\n",
    "import csv\n",
    "import datetime as datet\n",
    "\n",
    "epoch = datet.datetime.utcfromtimestamp(0)\n",
    "def unix_time_secs(dt):\n",
    "    return (dt - epoch).total_seconds()\n",
    "\n",
    "def str_to_datetime(dt_str):\n",
    "     return datet.datetime.strptime(dt_str, '%Y%m%d %H:%M:%S.%f')\n",
    "\n",
    "data = \"data/EURUSD_Tick_Data_Jan-Feb.csv\"\n",
    "outputCSV = \"data/EURUSD_Tick_Data_Jan-Feb_POC.csv\"    \n",
    "window = 14400     # amount of time in seconds\n",
    "startdt = unix_time_secs(str_to_datetime(\"20230101 22:00:00.000\"))\n",
    "\n",
    "with open(data, newline='') as csvfile:\n",
    "    with open(outputCSV, mode=\"w\", newline='') as csvwriter:\n",
    "        Reader = csv.reader(csvfile, delimiter=',')\n",
    "        Writer = csv.writer(csvwriter, delimiter=',')\n",
    "        Writer.writerow([\"Datetime\", \"Bid\", \"Ask\", \"AveragePrice\", \"PocPrice\", \"Volume\"])\n",
    "        next(Reader)\n",
    "\n",
    "        windowData, pocPrice = [], None\n",
    "\n",
    "        for row in tqdm(Reader):\n",
    "            datetime = row[0]  # DATETIME OF EVERY ROW\n",
    "            bidPrice = float(row[1])  # BID PRICE OF EVERY ROW\n",
    "            askPrice = float(row[2])  # ASK PRICE OF EVERY ROW\n",
    "            volume = float(row[5])  # VOLUME OF EVERY ROW\n",
    "            averagePrice = (bidPrice + askPrice) / 2  # AVERAGE BID-ASK PRICE OF EVERY ROW\n",
    "            \n",
    "            dt = str_to_datetime(datetime) # convert str to datetime\n",
    "                \n",
    "            if unix_time_secs(dt) - startdt >= window:\n",
    "                startdt = unix_time_secs(dt)        # reset starting datetime\n",
    "                if len(windowData) > 0:\n",
    "                    pocPrice = stats.mode(windowData) # find the POC for the window data\n",
    "                    windowData.clear()                # clear the window data\n",
    "            else:\n",
    "                windowData.append(averagePrice)       # creating the first period's data\n",
    "            \n",
    "\n",
    "            Writer.writerow([datetime, bidPrice, askPrice, averagePrice, pocPrice, volume])"
   ]
  },
  {
   "cell_type": "code",
   "execution_count": null,
   "id": "24e9a42e",
   "metadata": {},
   "outputs": [],
   "source": []
  }
 ],
 "metadata": {
  "kernelspec": {
   "display_name": "Python 3 (ipykernel)",
   "language": "python",
   "name": "python3"
  },
  "language_info": {
   "codemirror_mode": {
    "name": "ipython",
    "version": 3
   },
   "file_extension": ".py",
   "mimetype": "text/x-python",
   "name": "python",
   "nbconvert_exporter": "python",
   "pygments_lexer": "ipython3",
   "version": "3.9.12"
  }
 },
 "nbformat": 4,
 "nbformat_minor": 5
}
